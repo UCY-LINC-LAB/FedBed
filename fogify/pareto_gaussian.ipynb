{
 "cells": [
  {
   "cell_type": "code",
   "execution_count": 1,
   "id": "c9f8df50",
   "metadata": {},
   "outputs": [],
   "source": [
    "import numpy as np\n",
    "import matplotlib.pyplot as plt\n",
    "\n",
    "def gaussian_dist(N=1000,scale=1,nodes=10):\n",
    "    x=np.linspace(0,nodes-1,nodes)\n",
    "    dist= np.exp(-np.abs(x)/2/scale**2)\n",
    "    dist/=dist.sum()\n",
    "    return N*dist\n",
    "\n",
    "def pareto_dist(N=1000,scale=1,shape=1,nodes=10):\n",
    "    x=np.linspace(scale,scale+nodes-1,nodes)\n",
    "    dist= (shape * (scale**shape))/ (x**(shape+1))\n",
    "    dist/=dist.sum()\n",
    "    return N*dist\n",
    "\n",
    "def flat_dist(N=1000,nodes=10):\n",
    "    return [N/nodes]*nodes\n",
    "    # dist= (shape * (scale**shape))/ (x**(shape+1))\n",
    "    # dist/=dist.sum()\n",
    "    # return N*dist"
   ]
  },
  {
   "cell_type": "code",
   "execution_count": 29,
   "id": "1a7fb604-6e95-44c1-86c3-792ecffc75a9",
   "metadata": {},
   "outputs": [
    {
     "data": {
      "image/png": "[encoded data removed]",
      "text/plain": [
       "<Figure size 432x72 with 1 Axes>"
      ]
     },
     "metadata": {
      "needs_background": "light"
     },
     "output_type": "display_data"
    }
   ],
   "source": [
    "nodes=20\n",
    "fig, ax = plt.subplots(figsize=(6, 1))\n",
    "plt.bar(np.arange(nodes),flat_dist(N=50000,nodes=nodes),color=\"gray\")\n",
    "plt.ylim([0, 5000])\n",
    "plt.xticks([i for i in range(nodes)])\n",
    "plt.show()"
   ]
  },
  {
   "cell_type": "code",
   "execution_count": 13,
   "id": "cebf42c9",
   "metadata": {},
   "outputs": [
    {
     "data": {
      "image/png": "[encoded data removed]",
      "text/plain": [
       "<Figure size 432x72 with 1 Axes>"
      ]
     },
     "metadata": {
      "needs_background": "light"
     },
     "output_type": "display_data"
    }
   ],
   "source": [
    "nodes=10\n",
    "fig, ax = plt.subplots(figsize=(6, 1))\n",
    "plt.bar(np.arange(nodes),gaussian_dist(N=50000,scale=0.9,nodes=nodes),color=\"gray\")\n",
    "# plt.ylim([0, 5000])\n",
    "plt.xticks([i for i in range(nodes)])\n",
    "plt.show()"
   ]
  },
  {
   "cell_type": "code",
   "execution_count": 27,
   "id": "9a3a1ae2",
   "metadata": {},
   "outputs": [
    {
     "data": {
      "image/png": "[encoded data removed]",
      "text/plain": [
       "<Figure size 432x72 with 1 Axes>"
      ]
     },
     "metadata": {
      "needs_background": "light"
     },
     "output_type": "display_data"
    }
   ],
   "source": [
    "nodes=20\n",
    "fig, ax = plt.subplots(figsize=(6, 1))\n",
    "plt.bar(np.arange(nodes),pareto_dist(N=50000,scale=3, shape=1,nodes=nodes),color=\"gray\")\n",
    "plt.xticks([i for i in range(nodes)])\n",
    "plt.ylim([0, 20000])\n",
    "plt.yticks([0,10000,20000])\n",
    "plt.show()"
   ]
  },
  {
   "cell_type": "code",
   "execution_count": 33,
   "id": "c2ec61b1",
   "metadata": {},
   "outputs": [],
   "source": [
    "from scipy.stats import dirichlet\n",
    "\n",
    "def dirichlet_func(N=1000,nodes=10, random_state=None, **kwargs):\n",
    "    alpha = np.ones(nodes)/nodes\n",
    "    samples = dirichlet.rvs(alpha, size=1, random_state=random_state) * N\n",
    "    res = list(samples.squeeze())\n",
    "    res = [int(i) for i in res]\n",
    "    res = [i if i>0 else 1 for i in res]\n",
    "    res.sort(reverse=True)\n",
    "    return np.asarray(res)\n"
   ]
  },
  {
   "cell_type": "code",
   "execution_count": 34,
   "id": "e9c8dcfe-1de6-4608-9b9d-9c9f28951c6b",
   "metadata": {},
   "outputs": [
    {
     "data": {
      "image/png": "[encoded data removed]",
      "text/plain": [
       "<Figure size 432x72 with 1 Axes>"
      ]
     },
     "metadata": {
      "needs_background": "light"
     },
     "output_type": "display_data"
    }
   ],
   "source": [
    "fig, ax = plt.subplots(figsize=(6, 1))\n",
    "plt.bar(np.arange(nodes),dirichlet_func(N=50000,scale=3, shape=1, nodes=nodes, random_state=1),color=\"gray\")\n",
    "plt.xticks([i for i in range(nodes)])\n",
    "plt.ylim([0, 20000])\n",
    "plt.yticks([0,10000,50000])\n",
    "plt.show()"
   ]
  },
  {
   "cell_type": "code",
   "execution_count": 23,
   "id": "0bd53c40-896c-4ca9-a6b2-09c3b23ae392",
   "metadata": {},
   "outputs": [
    {
     "data": {
      "text/plain": [
       "array([4999,    0])"
      ]
     },
     "execution_count": 23,
     "metadata": {},
     "output_type": "execute_result"
    }
   ],
   "source": [
    "dirichlet_func(N=5000,scale=3, shape=1, nodes=nodes, random_state=1)"
   ]
  }
 ],
 "metadata": {
  "kernelspec": {
   "display_name": "Python 3 (ipykernel)",
   "language": "python",
   "name": "python3"
  },
  "language_info": {
   "codemirror_mode": {
    "name": "ipython",
    "version": 3
   },
   "file_extension": ".py",
   "mimetype": "text/x-python",
   "name": "python",
   "nbconvert_exporter": "python",
   "pygments_lexer": "ipython3",
   "version": "3.10.11"
  }
 },
 "nbformat": 4,
 "nbformat_minor": 5
}
