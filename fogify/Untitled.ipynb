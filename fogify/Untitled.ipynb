{
 "cells": [
  {
   "cell_type": "code",
   "execution_count": 8,
   "id": "b9ed87bf-99fd-4581-a4c4-e22d7a13a6b4",
   "metadata": {
    "tags": []
   },
   "outputs": [
    {
     "name": "stdout",
     "output_type": "stream",
     "text": [
      "Installing dependencies...\n",
      "Switching to root user to install dependencies...\n",
      "[sudo] password for jovyan: \n",
      "Traceback (most recent call last):\n",
      "  File \"/opt/conda/bin/playwright\", line 8, in <module>\n",
      "    sys.exit(main())\n",
      "  File \"/opt/conda/lib/python3.10/site-packages/playwright/__main__.py\", line 23, in main\n",
      "    completed_process = subprocess.run(\n",
      "  File \"/opt/conda/lib/python3.10/subprocess.py\", line 505, in run\n",
      "    stdout, stderr = process.communicate(input, timeout=timeout)\n",
      "  File \"/opt/conda/lib/python3.10/subprocess.py\", line 1146, in communicate\n",
      "    self.wait()\n",
      "  File \"/opt/conda/lib/python3.10/subprocess.py\", line 1209, in wait\n",
      "    return self._wait(timeout=timeout)\n",
      "  File \"/opt/conda/lib/python3.10/subprocess.py\", line 1959, in _wait\n",
      "    (pid, sts) = self._try_wait(0)\n",
      "  File \"/opt/conda/lib/python3.10/subprocess.py\", line 1917, in _try_wait\n",
      "    (pid, sts) = os.waitpid(self.pid, wait_flags)\n",
      "KeyboardInterrupt\n",
      "Sorry, try again.\n"
     ]
    }
   ],
   "source": [
    "! playwright install-deps"
   ]
  },
  {
   "cell_type": "code",
   "execution_count": 9,
   "id": "8bd8bb0e-da38-40f3-b8dc-e999db386b18",
   "metadata": {
    "tags": []
   },
   "outputs": [
    {
     "name": "stdout",
     "output_type": "stream",
     "text": [
      "Traceback (most recent call last):\n",
      "  File \"/home/jovyan/work/fetch_tweet.py\", line 62, in <module>\n",
      "    scrape_tweet(\"https://twitter.com/anyuser/status/{}\".format(sys.argv[1]))\n",
      "  File \"/home/jovyan/work/fetch_tweet.py\", line 46, in scrape_tweet\n",
      "    parent  = tweets.pop(0)\n",
      "IndexError: pop from empty list\n"
     ]
    }
   ],
   "source": [
    "! python fetch_tweet.py 745722854797246464"
   ]
  }
 ],
 "metadata": {
  "kernelspec": {
   "display_name": "Python 3 (ipykernel)",
   "language": "python",
   "name": "python3"
  },
  "language_info": {
   "codemirror_mode": {
    "name": "ipython",
    "version": 3
   },
   "file_extension": ".py",
   "mimetype": "text/x-python",
   "name": "python",
   "nbconvert_exporter": "python",
   "pygments_lexer": "ipython3",
   "version": "3.10.11"
  }
 },
 "nbformat": 4,
 "nbformat_minor": 5
}
